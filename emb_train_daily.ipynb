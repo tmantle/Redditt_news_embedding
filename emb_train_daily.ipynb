{
 "cells": [
  {
   "cell_type": "markdown",
   "metadata": {},
   "source": [
    "<font size=\"7\">Embed Train Daily</font>"
   ]
  },
  {
   "cell_type": "code",
   "execution_count": 6,
   "metadata": {},
   "outputs": [],
   "source": [
    "from IPython import display\n",
    "import math\n",
    "import pandas as pd\n",
    "import numpy as np\n",
    "import datetime as dt\n",
    "\n",
    "\n",
    "import numpy as np\n",
    "import tensorflow\n",
    "import ampligraph"
   ]
  },
  {
   "cell_type": "code",
   "execution_count": 7,
   "metadata": {},
   "outputs": [],
   "source": [
    "train = pd.read_pickle(\"train_all.pkl\")"
   ]
  },
  {
   "cell_type": "code",
   "execution_count": 8,
   "metadata": {},
   "outputs": [
    {
     "data": {
      "text/html": [
       "<div>\n",
       "<style scoped>\n",
       "    .dataframe tbody tr th:only-of-type {\n",
       "        vertical-align: middle;\n",
       "    }\n",
       "\n",
       "    .dataframe tbody tr th {\n",
       "        vertical-align: top;\n",
       "    }\n",
       "\n",
       "    .dataframe thead th {\n",
       "        text-align: right;\n",
       "    }\n",
       "</style>\n",
       "<table border=\"1\" class=\"dataframe\">\n",
       "  <thead>\n",
       "    <tr style=\"text-align: right;\">\n",
       "      <th></th>\n",
       "      <th>Date</th>\n",
       "      <th>triples_</th>\n",
       "    </tr>\n",
       "    <tr>\n",
       "      <th>Date</th>\n",
       "      <th></th>\n",
       "      <th></th>\n",
       "    </tr>\n",
       "  </thead>\n",
       "  <tbody>\n",
       "    <tr>\n",
       "      <td>2018-01-01</td>\n",
       "      <td>2018-01-01</td>\n",
       "      <td>[[http://dbpedia.org/resource/Atid_Ehad, http:...</td>\n",
       "    </tr>\n",
       "    <tr>\n",
       "      <td>2018-01-02</td>\n",
       "      <td>2018-01-02</td>\n",
       "      <td>[[http://dbpedia.org/resource/Chak_147/148_NB,...</td>\n",
       "    </tr>\n",
       "    <tr>\n",
       "      <td>2018-01-03</td>\n",
       "      <td>2018-01-03</td>\n",
       "      <td>[[http://dbpedia.org/resource/Neveh_Erez, http...</td>\n",
       "    </tr>\n",
       "    <tr>\n",
       "      <td>2018-01-04</td>\n",
       "      <td>2018-01-04</td>\n",
       "      <td>[[http://dbpedia.org/resource/Air_Post, http:/...</td>\n",
       "    </tr>\n",
       "    <tr>\n",
       "      <td>2018-01-05</td>\n",
       "      <td>2018-01-05</td>\n",
       "      <td>[[http://dbpedia.org/resource/Evgeny_Busygin, ...</td>\n",
       "    </tr>\n",
       "    <tr>\n",
       "      <td>...</td>\n",
       "      <td>...</td>\n",
       "      <td>...</td>\n",
       "    </tr>\n",
       "    <tr>\n",
       "      <td>2018-11-23</td>\n",
       "      <td>2018-11-23</td>\n",
       "      <td>[[http://dbpedia.org/resource/British_Asia_Air...</td>\n",
       "    </tr>\n",
       "    <tr>\n",
       "      <td>2018-11-24</td>\n",
       "      <td>2018-11-24</td>\n",
       "      <td>[[http://dbpedia.org/resource/Ab_Khvor, http:/...</td>\n",
       "    </tr>\n",
       "    <tr>\n",
       "      <td>2018-11-25</td>\n",
       "      <td>2018-11-25</td>\n",
       "      <td>[[http://dbpedia.org/resource/Jurassic_Park_Bu...</td>\n",
       "    </tr>\n",
       "    <tr>\n",
       "      <td>2018-11-26</td>\n",
       "      <td>2018-11-26</td>\n",
       "      <td>[[http://dbpedia.org/resource/Nissan_RB_engine...</td>\n",
       "    </tr>\n",
       "    <tr>\n",
       "      <td>2018-11-27</td>\n",
       "      <td>2018-11-27</td>\n",
       "      <td>[[http://dbpedia.org/resource/Mahendra_of_Nepa...</td>\n",
       "    </tr>\n",
       "  </tbody>\n",
       "</table>\n",
       "<p>331 rows × 2 columns</p>\n",
       "</div>"
      ],
      "text/plain": [
       "                  Date                                           triples_\n",
       "Date                                                                     \n",
       "2018-01-01  2018-01-01  [[http://dbpedia.org/resource/Atid_Ehad, http:...\n",
       "2018-01-02  2018-01-02  [[http://dbpedia.org/resource/Chak_147/148_NB,...\n",
       "2018-01-03  2018-01-03  [[http://dbpedia.org/resource/Neveh_Erez, http...\n",
       "2018-01-04  2018-01-04  [[http://dbpedia.org/resource/Air_Post, http:/...\n",
       "2018-01-05  2018-01-05  [[http://dbpedia.org/resource/Evgeny_Busygin, ...\n",
       "...                ...                                                ...\n",
       "2018-11-23  2018-11-23  [[http://dbpedia.org/resource/British_Asia_Air...\n",
       "2018-11-24  2018-11-24  [[http://dbpedia.org/resource/Ab_Khvor, http:/...\n",
       "2018-11-25  2018-11-25  [[http://dbpedia.org/resource/Jurassic_Park_Bu...\n",
       "2018-11-26  2018-11-26  [[http://dbpedia.org/resource/Nissan_RB_engine...\n",
       "2018-11-27  2018-11-27  [[http://dbpedia.org/resource/Mahendra_of_Nepa...\n",
       "\n",
       "[331 rows x 2 columns]"
      ]
     },
     "execution_count": 8,
     "metadata": {},
     "output_type": "execute_result"
    }
   ],
   "source": [
    "train"
   ]
  },
  {
   "cell_type": "code",
   "execution_count": 9,
   "metadata": {},
   "outputs": [],
   "source": [
    "arr=train['triples_'][0]\n",
    "for zz in range(1,len(train['triples_'])):\n",
    "    if len(train['triples_'][zz])==0:\n",
    "        continue\n",
    "    else:\n",
    "        arr = np.concatenate((arr,train['triples_'][zz]))"
   ]
  },
  {
   "cell_type": "code",
   "execution_count": 10,
   "metadata": {},
   "outputs": [],
   "source": [
    "df_of_train = pd.DataFrame(arr, \n",
    "             columns=['S', \n",
    "                      'P','O'])\n"
   ]
  },
  {
   "cell_type": "code",
   "execution_count": 11,
   "metadata": {},
   "outputs": [],
   "source": [
    "final_df=df_of_train"
   ]
  },
  {
   "cell_type": "code",
   "execution_count": 12,
   "metadata": {},
   "outputs": [],
   "source": [
    "final_df[\"S\"] = final_df[\"S\"].astype(str)\n",
    "final_df[\"P\"] = final_df[\"P\"].astype(str)\n",
    "final_df[\"O\"] = final_df[\"O\"].astype(str)"
   ]
  },
  {
   "cell_type": "code",
   "execution_count": 13,
   "metadata": {},
   "outputs": [],
   "source": [
    "remove_rel=final_df.groupby('P').count()\n",
    "remove_rel=remove_rel.sort_values(by=['O'])\n",
    "\n",
    "single_rel=remove_rel.loc[remove_rel['S'] < 10]\n",
    "single_rel=single_rel.index.values.tolist()\n",
    "\n",
    "final_df=final_df[~final_df['P'].isin(single_rel)]"
   ]
  },
  {
   "cell_type": "code",
   "execution_count": 14,
   "metadata": {},
   "outputs": [],
   "source": [
    "from ampligraph.utils import save_model, restore_model\n",
    "model = restore_model(model_name_path = 'emb_model.pkl')"
   ]
  },
  {
   "cell_type": "code",
   "execution_count": 15,
   "metadata": {},
   "outputs": [],
   "source": [
    "import statistics"
   ]
  },
  {
   "cell_type": "code",
   "execution_count": 10,
   "metadata": {},
   "outputs": [],
   "source": [
    "train['s_overall_av']=None\n",
    "train['p_overall_av']=None\n",
    "train['o_overall_av']=None"
   ]
  },
  {
   "cell_type": "code",
   "execution_count": null,
   "metadata": {},
   "outputs": [],
   "source": [
    "for dayy in range(0,len(train)):\n",
    "    daily_triple_df = pd.DataFrame(train['triples_'][dayy], \n",
    "             columns=['S', \n",
    "                      'P','O'])\n",
    "    remove_rel=df_of_train.groupby('P').count()\n",
    "    remove_rel=remove_rel.sort_values(by=['O'])\n",
    "\n",
    "    single_rel=remove_rel.loc[remove_rel['S'] < 10]\n",
    "    single_rel=single_rel.index.values.tolist()\n",
    "\n",
    "    daily_triple_df=daily_triple_df[~daily_triple_df['P'].isin(single_rel)]\n",
    "\n",
    "    daily_triple_df['s_avg_emb']=None\n",
    "    daily_triple_df['p_avg_emb']=None\n",
    "    daily_triple_df['o_avg_emb']=None\n",
    "    daily_triple_df=daily_triple_df.reset_index(drop=True)\n",
    "    \n",
    "    if len(daily_triple_df.S.values.tolist())==0:\n",
    "        train['s_overall_av'][dayy]=0\n",
    "        train['p_overall_av'][dayy]=0\n",
    "        train['o_overall_av'][dayy]=0\n",
    "    else:    \n",
    "        \n",
    "        train['s_overall_av'][dayy]=np.average(model.get_embeddings(daily_triple_df.S.values.tolist(),embedding_type='entity'))\n",
    "        train['p_overall_av'][dayy]=np.average(model.get_embeddings(daily_triple_df.P.values.tolist(),embedding_type='relation'))\n",
    "        train['o_overall_av'][dayy]=np.average(model.get_embeddings(daily_triple_df.O.values.tolist(),embedding_type='entity'))\n",
    "    print(dayy)    "
   ]
  },
  {
   "cell_type": "code",
   "execution_count": 21,
   "metadata": {},
   "outputs": [
    {
     "data": {
      "text/plain": [
       "770952"
      ]
     },
     "execution_count": 21,
     "metadata": {},
     "output_type": "execute_result"
    }
   ],
   "source": [
    "len(day_headline_vector)"
   ]
  },
  {
   "cell_type": "markdown",
   "metadata": {},
   "source": [
    "<font size=\"5\">Correction</font>"
   ]
  },
  {
   "cell_type": "code",
   "execution_count": null,
   "metadata": {},
   "outputs": [],
   "source": [
    "\n",
    "daily_vec=[]\n",
    "\n",
    "for j in range(0,len(train)):\n",
    "    day_headlines=train['triples_'][j]\n",
    "    day_headline_vector=[]\n",
    "\n",
    "    for i in range(0,len(day_headlines)):\n",
    "        headline=day_headlines[i]\n",
    "\n",
    "        if headline[1] in (single_rel):\n",
    "            continue\n",
    "        else:\n",
    "            s_e=model.get_embeddings(headline[0],embedding_type='entity')\n",
    "            p_e=model.get_embeddings(headline[1],embedding_type='relation')\n",
    "            o_e=model.get_embeddings(headline[2],embedding_type='entity')\n",
    "            concat_emb=np.concatenate((s_e,p_e,o_e))\n",
    "            day_headline_vector.append(concat_emb)\n",
    "\n",
    "    avg_vec=np.mean(day_headline_vector,axis=0)\n",
    "    daily_vec.append(avg_vec)\n",
    "\n",
    "    print(j)\n"
   ]
  },
  {
   "cell_type": "code",
   "execution_count": 31,
   "metadata": {},
   "outputs": [
    {
     "data": {
      "text/plain": [
       "1"
      ]
     },
     "execution_count": 31,
     "metadata": {},
     "output_type": "execute_result"
    }
   ],
   "source": [
    "len(daily_vec[0:1])"
   ]
  },
  {
   "cell_type": "code",
   "execution_count": 28,
   "metadata": {},
   "outputs": [
    {
     "data": {
      "text/plain": [
       "300"
      ]
     },
     "execution_count": 28,
     "metadata": {},
     "output_type": "execute_result"
    }
   ],
   "source": [
    "len(daily_vec[0:1][0])"
   ]
  },
  {
   "cell_type": "code",
   "execution_count": 34,
   "metadata": {},
   "outputs": [
    {
     "data": {
      "text/plain": [
       "array([ 5.00337780e-03,  7.22251134e-03,  6.93944516e-03, -8.40176828e-03,\n",
       "       -1.64854750e-02,  3.88483936e-03, -4.91010305e-03, -8.07960331e-03,\n",
       "        5.12667559e-03,  7.48803839e-03,  6.74759503e-03, -5.50582027e-03,\n",
       "       -6.57418836e-03, -5.55045903e-03,  1.47386147e-02, -2.97074672e-03,\n",
       "        7.45592499e-03,  5.69916843e-03, -2.98179383e-03, -5.86052099e-03,\n",
       "        5.21383574e-03,  9.62957740e-03,  1.16216931e-02, -5.80972852e-03,\n",
       "       -5.62171359e-03, -6.40695123e-03, -7.70670688e-03,  1.36683765e-03,\n",
       "        4.94033005e-03, -7.10260542e-03,  1.02766305e-02, -4.19878773e-03,\n",
       "        3.43731907e-03,  4.61165654e-03, -5.05947927e-03,  9.42084938e-03,\n",
       "       -4.83806431e-03, -5.27994707e-03,  9.20086913e-03,  3.94546287e-03,\n",
       "       -5.94584085e-03, -9.15541314e-03,  1.03282668e-02,  7.99565762e-03,\n",
       "        5.46009932e-03, -6.27981964e-03, -5.20635454e-04, -1.35478387e-02,\n",
       "        4.83747339e-03,  1.20506203e-02, -9.68364440e-03,  4.65547759e-03,\n",
       "        7.70662725e-03,  5.12244925e-03, -5.54739684e-03, -1.06735593e-02,\n",
       "        5.32323215e-03, -5.52294170e-03, -1.84195340e-02, -1.57795020e-03,\n",
       "        7.13591091e-03,  8.99618026e-03, -1.28228795e-02,  3.91325960e-03,\n",
       "       -5.71730314e-03, -1.06098000e-02, -1.04184048e-02,  6.69931574e-03,\n",
       "       -1.84271410e-02,  1.00829685e-02,  6.74535334e-03, -5.14865341e-03,\n",
       "       -5.13797672e-03, -9.05618351e-03,  5.45693142e-03,  1.11876987e-02,\n",
       "        9.14160628e-03,  6.27540518e-03, -3.55265522e-03,  7.34590134e-03,\n",
       "        3.54751945e-03, -1.43165179e-02,  8.45880434e-03, -6.45550387e-03,\n",
       "        9.42333508e-03,  1.05545549e-02,  9.70046222e-03,  7.60268327e-03,\n",
       "        4.98553854e-04, -7.63173262e-03, -7.61729851e-03,  8.01855605e-03,\n",
       "        1.01204794e-02,  9.13418736e-03,  8.75258166e-03, -6.63686451e-03,\n",
       "       -7.94028584e-03, -5.49869705e-03, -8.23706482e-03, -6.37846347e-03,\n",
       "       -3.20527181e-02, -2.71319672e-02, -2.17428673e-02,  2.34692469e-02,\n",
       "        2.63560377e-02, -3.25176381e-02,  3.46939787e-02,  1.25424685e-02,\n",
       "       -3.63364816e-02, -3.36234756e-02, -5.47231324e-02,  3.41612399e-02,\n",
       "        3.34098451e-02,  4.77637909e-02, -2.16638949e-02,  2.73441877e-02,\n",
       "       -2.71350257e-02, -2.57173069e-02,  1.90493446e-02,  3.87853161e-02,\n",
       "        1.10401297e-02, -3.24327014e-02, -1.65447518e-02,  3.70144919e-02,\n",
       "        4.27281372e-02,  6.60931319e-02,  3.51595134e-02, -5.85545832e-03,\n",
       "       -3.47766615e-02,  1.91002395e-02, -5.01634032e-02,  2.90604252e-02,\n",
       "       -4.01801690e-02, -3.43064405e-02,  3.45317908e-02, -1.64643060e-02,\n",
       "        4.36804257e-02,  3.96408923e-02, -1.62212234e-02, -1.41523276e-02,\n",
       "        4.86474372e-02,  2.14422178e-02, -1.80882495e-02, -4.87167053e-02,\n",
       "       -3.01968697e-02,  3.69822010e-02,  1.27649419e-02,  1.64443813e-02,\n",
       "       -3.43055800e-02,  7.48068793e-03,  1.48136597e-02, -3.68671380e-02,\n",
       "       -2.90130153e-02, -3.26633342e-02,  2.62116808e-02,  1.50892530e-02,\n",
       "       -4.41410318e-02,  3.95887494e-02,  2.17352826e-02, -1.31821726e-02,\n",
       "       -3.59906927e-02, -2.36563012e-02,  1.29721174e-02, -3.03603932e-02,\n",
       "        3.17539722e-02,  2.14305408e-02,  1.53511409e-02, -3.47315893e-02,\n",
       "        2.15105247e-02, -3.18430513e-02, -3.81792784e-02,  3.46171893e-02,\n",
       "        4.09367010e-02,  2.49373801e-02, -3.21859568e-02, -1.31424945e-02,\n",
       "       -2.40717065e-02, -3.56826782e-02,  3.39340279e-03, -2.11066362e-02,\n",
       "        1.15131866e-02,  1.64321121e-02, -2.97842138e-02,  2.26012282e-02,\n",
       "       -1.82353761e-02, -1.31549127e-02, -2.00743824e-02, -3.13792266e-02,\n",
       "       -2.73513072e-03,  2.50312835e-02,  2.31695212e-02, -3.09902541e-02,\n",
       "       -1.31402845e-02, -1.85905527e-02, -5.16554192e-02,  3.00734080e-02,\n",
       "        2.24745609e-02,  3.58881727e-02,  1.70208160e-02,  2.10602228e-02,\n",
       "       -8.11953470e-03, -7.60984700e-03, -1.01115527e-02,  1.43970065e-02,\n",
       "       -3.37486155e-03, -8.98439996e-03,  9.25371237e-03, -1.20656355e-03,\n",
       "       -7.16664130e-03, -1.08517753e-02, -8.71854648e-03,  8.36357847e-03,\n",
       "        8.89361929e-03,  8.96899682e-03,  2.32317345e-03,  1.08367614e-02,\n",
       "       -1.11963144e-02, -8.65794532e-03, -1.27930695e-03,  8.27879086e-03,\n",
       "        2.15875208e-02, -8.01269803e-03,  1.89623446e-03,  8.18387698e-03,\n",
       "        9.57694184e-03,  1.05878552e-02,  7.42309541e-03, -1.39346032e-03,\n",
       "       -9.53589939e-03,  5.89845655e-03, -1.06168753e-02,  8.18239618e-03,\n",
       "       -7.35800015e-03, -1.05396882e-02,  7.29905907e-03, -2.62807682e-03,\n",
       "        8.35085753e-03,  9.38807894e-03, -1.72645121e-03, -1.17062815e-02,\n",
       "        6.97383657e-03,  7.35166110e-03, -5.52077545e-03, -1.07078571e-02,\n",
       "       -8.51081498e-03,  8.38130992e-03,  1.20299794e-02, -3.32016195e-03,\n",
       "       -1.10281408e-02,  2.65458673e-02,  3.19620874e-03, -8.72165803e-03,\n",
       "       -1.04660168e-02, -8.26891884e-03,  7.96587672e-03, -5.12653321e-04,\n",
       "       -7.79900467e-03,  7.58393062e-03, -1.17952339e-02, -1.47309089e-02,\n",
       "       -7.59810209e-03, -1.33377481e-02, -9.01489612e-03, -9.03380662e-03,\n",
       "        8.56838189e-03,  2.47198879e-03,  3.03817302e-04, -5.96420374e-03,\n",
       "       -9.08633694e-03, -7.54134776e-03, -1.10788234e-02,  8.57188646e-03,\n",
       "        7.52511900e-03,  8.04712158e-03, -7.45752174e-03,  7.45821092e-03,\n",
       "       -8.43543559e-03, -8.22009239e-03, -8.31087492e-03, -7.21503701e-03,\n",
       "        2.19980571e-02, -5.65758627e-03, -9.21488367e-03,  6.98807649e-03,\n",
       "       -7.44268624e-03,  1.44262821e-03, -7.70854158e-03, -7.94632453e-03,\n",
       "        1.25225680e-03,  4.51197382e-03,  9.30514373e-03, -7.88056012e-03,\n",
       "        9.58864402e-05, -4.33439529e-03, -6.10359199e-03,  8.86417553e-03,\n",
       "        1.15426639e-02,  1.00053102e-02,  8.64311121e-03,  8.34129285e-03],\n",
       "      dtype=float32)"
      ]
     },
     "execution_count": 34,
     "metadata": {},
     "output_type": "execute_result"
    }
   ],
   "source": [
    "daily_vec[0:1][0]"
   ]
  },
  {
   "cell_type": "code",
   "execution_count": null,
   "metadata": {},
   "outputs": [],
   "source": [
    "train['embeddings'] = daily_vec"
   ]
  },
  {
   "cell_type": "code",
   "execution_count": null,
   "metadata": {},
   "outputs": [],
   "source": []
  },
  {
   "cell_type": "code",
   "execution_count": 12,
   "metadata": {},
   "outputs": [],
   "source": [
    "train_emb=train.drop([\"triples_\"], axis=1)"
   ]
  },
  {
   "cell_type": "code",
   "execution_count": 14,
   "metadata": {},
   "outputs": [],
   "source": [
    "train_emb.to_pickle(\"train_w_emb.pkl\")"
   ]
  },
  {
   "cell_type": "code",
   "execution_count": null,
   "metadata": {},
   "outputs": [],
   "source": []
  }
 ],
 "metadata": {
  "kernelspec": {
   "display_name": "Python 3",
   "language": "python",
   "name": "python3"
  },
  "language_info": {
   "codemirror_mode": {
    "name": "ipython",
    "version": 3
   },
   "file_extension": ".py",
   "mimetype": "text/x-python",
   "name": "python",
   "nbconvert_exporter": "python",
   "pygments_lexer": "ipython3",
   "version": "3.7.4"
  }
 },
 "nbformat": 4,
 "nbformat_minor": 4
}
